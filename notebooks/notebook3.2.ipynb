{
  "nbformat": 4,
  "nbformat_minor": 0,
  "metadata": {
    "colab": {
      "name": "neural ir colbert.ipynb",
      "provenance": [],
      "collapsed_sections": [],
      "toc_visible": true
    },
    "kernelspec": {
      "name": "python3",
      "display_name": "Python 3"
    },
    "language_info": {
      "name": "python"
    },
    "accelerator": "GPU"
  },
  "cells": [
    {
      "cell_type": "markdown",
      "metadata": {
        "id": "9egyhuvU3_GI"
      },
      "source": [
        "# PyTerrier ECIR 2021 Tutorial Notebook - Part 3.2 - ColBERT\n",
        "\n",
        "This is one of a series of Colab notebooks created for This notebook provides experiences to attendees for creating indexing pipelines in PyTerrier. All experiments are conducted using the CORD19 corpus and the TREC Covid test collection.\n",
        "\n",
        "This notebook aims to demonstrate use of the [ColBERT](https://github.com/stanford-futuredata/ColBERT/tree/v0.2) as a re-ranker using [PyTerrier ColBERT](https://github.com/terrierteam/pyterrier_colbert) plugin. Note that due to differing requirements on Huggingface transformer versions, this is a separate notebook from Part 3.1 (OpenNIR and monoT5).\n",
        "\n",
        "In this notebook, you will experience:\n",
        "\n",
        " - re-ranking documents using CoBERT\n",
        " - analysis of the how ColBERT scores a document using the max-sim operator.\n"
      ]
    },
    {
      "cell_type": "markdown",
      "metadata": {
        "id": "dl0-Gs6e5I7n"
      },
      "source": [
        "## Setup\n",
        "\n",
        "In the following, we will set up the libraries required to execute the notebook.\n",
        "\n",
        "### Pyterrier installation\n",
        "\n",
        "The following cell installs the latest release of the [PyTerrier](https://github.com/terrier-org/pyterrier) package."
      ]
    },
    {
      "cell_type": "code",
      "metadata": {
        "id": "zSgDzjKxqfq5"
      },
      "source": [
        "!pip install --upgrade python-terrier"
      ],
      "execution_count": null,
      "outputs": []
    },
    {
      "cell_type": "markdown",
      "metadata": {
        "id": "mV0C6jJvqhMR"
      },
      "source": [
        "### Pyterrier plugins installation \n",
        "\n",
        "We install the official version of the [ColBERT](https://github.com/terrierteam/pyterrier_colbert) plugin. You can safely ignore the package versioning errors."
      ]
    },
    {
      "cell_type": "code",
      "metadata": {
        "id": "AkIR_PXdet7R"
      },
      "source": [
        "!pip install --upgrade git+https://github.com/terrierteam/pyterrier_colbert"
      ],
      "execution_count": null,
      "outputs": []
    },
    {
      "cell_type": "markdown",
      "metadata": {
        "id": "A-nQrpNP5pN7"
      },
      "source": [
        "## Preliminary steps\n",
        "\n",
        "### [PyTerrier](https://github.com/terrier-org/pyterrier) initialization \n",
        "\n",
        "Lets get [PyTerrier](https://github.com/terrier-org/pyterrier) started. This will download the latest version of the [Terrier](http://terrier.org/) IR platform. We also import the [OpenNIR](https://opennir.net/) pyterrier bindings."
      ]
    },
    {
      "cell_type": "code",
      "metadata": {
        "id": "6FegcyWr5lja"
      },
      "source": [
        "import pyterrier as pt\n",
        "if not pt.started():\n",
        "    pt.init()"
      ],
      "execution_count": null,
      "outputs": []
    },
    {
      "cell_type": "markdown",
      "metadata": {
        "id": "hPVjr448rIPc"
      },
      "source": [
        "### [TREC-COVID19](https://ir.nist.gov/covidSubmit/) Dataset download\n",
        "\n",
        "The following cell downloads the [TREC-COVID19](https://ir.nist.gov/covidSubmit/) dataset that we will use in the remainder of this notebook."
      ]
    },
    {
      "cell_type": "code",
      "metadata": {
        "id": "IJMHFRfArd7O"
      },
      "source": [
        "dataset = pt.datasets.get_dataset('irds:cord19/trec-covid')\n",
        "topics = dataset.get_topics(variant='description')\n",
        "qrels = dataset.get_qrels()"
      ],
      "execution_count": null,
      "outputs": []
    },
    {
      "cell_type": "markdown",
      "metadata": {
        "id": "OF3HIPhtrqOH"
      },
      "source": [
        "### Terrier inverted index download\n",
        "\n",
        "To save a few minutes, we use a pre-built Terrier inverted index for the TREC-COVID19 collection. Download time took a few seconds for us.\n",
        "\n",
        "The construction of the inverted index will take few minutes, and the code to use is the following:\n",
        "\n",
        "```python\n",
        "import os\n",
        "\n",
        "cord19 = pt.datasets.get_dataset('irds:cord19/trec-covid')\n",
        "pt_index_path = './terrier_cord19'\n",
        "\n",
        "if not os.path.exists(pt_index_path + \"/data.properties\"):\n",
        "    # create the index, using the IterDictIndexer indexer \n",
        "    indexer = pt.index.IterDictIndexer(pt_index_path)\n",
        "\n",
        "    # we give the dataset get_corpus_iter() directly to the indexer\n",
        "    # while specifying the fields to index and the metadata to record\n",
        "    index_ref = indexer.index(cord19.get_corpus_iter(), \n",
        "                              fields=('abstract',), \n",
        "                              meta=('docno',))\n",
        "\n",
        "else:\n",
        "    # if you already have the index, use it.\n",
        "    index_ref = pt.IndexRef.of(pt_index_path + \"/data.properties\")\n",
        "\n",
        "index = pt.IndexFactory.of(index_ref)\n",
        "```"
      ]
    },
    {
      "cell_type": "code",
      "metadata": {
        "id": "6oCcP90yrlGi"
      },
      "source": [
        "import os\n",
        "\n",
        "if not os.path.exists(\"terrier_index.zip\"):\n",
        "  !wget http://www.dcs.gla.ac.uk/~craigm/ecir2021-tutorial/terrier_index.zip\n",
        "  !unzip -j terrier_index.zip -d terrier_index\n",
        "\n",
        "index_ref = pt.IndexRef.of(\"./terrier_index/data.properties\")\n",
        "index = pt.IndexFactory.of(index_ref)"
      ],
      "execution_count": null,
      "outputs": []
    },
    {
      "cell_type": "markdown",
      "metadata": {
        "id": "rwDams5M7g6c"
      },
      "source": [
        "## ColBERT\n",
        "\n"
      ]
    },
    {
      "cell_type": "code",
      "metadata": {
        "id": "F0O79K2K6fvn"
      },
      "source": [
        "import pyterrier_colbert.ranking\n",
        "colbert_factory = pyterrier_colbert.ranking.ColBERTFactory(\n",
        "    \"http://www.dcs.gla.ac.uk/~craigm/colbert.dnn.zip\", None, None)\n",
        "colbert = colbert_factory.text_scorer(doc_attr='abstract')"
      ],
      "execution_count": null,
      "outputs": []
    },
    {
      "cell_type": "markdown",
      "metadata": {
        "id": "x1avVTpxDORN"
      },
      "source": [
        "Let's look at how well it works at ranking! Here we create a ColBERT ranking pipeline,\n",
        "which re-ranks 100 document identified by BM25."
      ]
    },
    {
      "cell_type": "code",
      "metadata": {
        "id": "4FWUIN577v1O"
      },
      "source": [
        "br = pt.BatchRetrieve(index) % 100\n",
        "pipeline = br >> pt.text.get_text(dataset, 'abstract') >> colbert\n",
        "pt.Experiment(\n",
        "    [br, pipeline],\n",
        "    topics,\n",
        "    qrels,\n",
        "    names=['DPH', 'DPH >> ColBERT'],\n",
        "    eval_metrics=[\"map\", \"ndcg\", 'ndcg_cut.10', 'P.10', 'mrt']\n",
        ")"
      ],
      "execution_count": null,
      "outputs": []
    },
    {
      "cell_type": "markdown",
      "metadata": {
        "id": "uVXVh8T-AwyU"
      },
      "source": [
        "## Visualizing ColBERT\n",
        "\n",
        "That's not bad! Let's dig a little deeper into which documents it retrieved and what it was paying attention to in those documents."
      ]
    },
    {
      "cell_type": "code",
      "metadata": {
        "id": "z7FDDQu59DwZ"
      },
      "source": [
        "res = pipeline(topics.iloc[:1])\n",
        "res.merge(dataset.get_qrels(), how='left').head()"
      ],
      "execution_count": null,
      "outputs": []
    },
    {
      "cell_type": "markdown",
      "metadata": {
        "id": "t6LSQ0kABCFw"
      },
      "source": [
        "The top-ranked document for query 0 is non-relevant. Let's see what it's paying attention to in this document using ColBERT's `explain_text`:"
      ]
    },
    {
      "cell_type": "code",
      "metadata": {
        "id": "utxFOQa39-fz"
      },
      "source": [
        "text = dataset.irds_ref().docs_store().get('4dtk1kyh').abstract[:300] + '...' # truncate text\n",
        "colbert_factory.explain_text('what is the origin of covid 19', text)"
      ],
      "execution_count": null,
      "outputs": []
    },
    {
      "cell_type": "markdown",
      "metadata": {
        "id": "zsH4Oo-QCFz1"
      },
      "source": [
        "We see very strong matches at the start of the document, which contributed directly to the ranking scores (indicated by x's)."
      ]
    },
    {
      "source": [
        "#  That's all folks\n",
        "If you arent coming back for Part 4 of the tutorial, please dont forget to complete our exit quiz: https://forms.office.com/r/2WbpLiQmWV"
      ],
      "cell_type": "markdown",
      "metadata": {}
    }
  ]
}